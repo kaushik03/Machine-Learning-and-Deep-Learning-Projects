{
 "cells": [
  {
   "cell_type": "markdown",
   "metadata": {},
   "source": [
    "DATA ENGINEER - PYTHON PYSPARK"
   ]
  },
  {
   "cell_type": "markdown",
   "metadata": {},
   "source": [
    "# Big Data Analysis on Real world Dataset using pySpark"
   ]
  },
  {
   "cell_type": "code",
   "execution_count": 1,
   "metadata": {},
   "outputs": [],
   "source": [
    "# Intialising Spark session for this notebook\n",
    "#importing reqd modules from pyspark\n",
    "import pyspark\n",
    "from pyspark.context import SparkContext\n",
    "from pyspark.sql.session import SparkSession\n",
    "from pyspark.sql import SQLContext\n",
    "from pyspark.sql.functions import *\n",
    "sc = SparkContext('local')\n",
    "spark = SparkSession(sc)\n",
    "sqlContext = SQLContext(sc)"
   ]
  },
  {
   "cell_type": "code",
   "execution_count": 2,
   "metadata": {},
   "outputs": [],
   "source": [
    "import pandas as pd\n",
    "import json \n",
    "from pandas.io.json import json_normalize "
   ]
  },
  {
   "cell_type": "code",
   "execution_count": 3,
   "metadata": {},
   "outputs": [],
   "source": [
    "# Arrow consumption like Scala\n",
    "spark.conf.set(\"spark.sql.execution.arrow.pyspark.enabled\", \"true\")"
   ]
  },
  {
   "cell_type": "code",
   "execution_count": 4,
   "metadata": {},
   "outputs": [],
   "source": [
    "#import CSVs here\n",
    "salesteam_pd = pd.read_csv(\"./sales_teams.csv\")\n",
    "salespipeline_pd = pd.read_csv(\"./sales_pipeline.csv\")\n",
    "products_pd = pd.read_csv(\"./products.csv\")\n",
    "accounts_pd = pd.read_csv(\"./accounts.csv\")\n",
    "clicks_pd = pd.read_csv(\"./clicks.csv\")\n",
    "\n",
    "#import JSONs here\n",
    "orchestra_json = pd.read_json(\"./Orchestra.json\")\n",
    "\n"
   ]
  },
  {
   "cell_type": "code",
   "execution_count": 5,
   "metadata": {},
   "outputs": [],
   "source": [
    "salesteam_df = sqlContext.createDataFrame(salesteam_pd)\n",
    "salespipeline_df = sqlContext.createDataFrame(salespipeline_pd)\n",
    "products_df = sqlContext.createDataFrame(products_pd)\n",
    "accounts_df =sqlContext.createDataFrame(accounts_pd)\n",
    "clicks_df = sqlContext.createDataFrame(clicks_pd)\n"
   ]
  },
  {
   "cell_type": "markdown",
   "metadata": {},
   "source": [
    "## Inspecting the dataframe created"
   ]
  },
  {
   "cell_type": "code",
   "execution_count": 6,
   "metadata": {},
   "outputs": [
    {
     "name": "stdout",
     "output_type": "stream",
     "text": [
      "+----------+--------------+---------------+-----------+--------+----------+-----------+----------+\n",
      "|   account|opportunity_id|    sales_agent| deal_stage| product|close_date|close_value|created_on|\n",
      "+----------+--------------+---------------+-----------+--------+----------+-----------+----------+\n",
      "|Sunnamplex|      67HY0MW7|  Donn Cantrell|        Won|GTXBasic|2017-05-06|      500.0|2017-04-24|\n",
      "|      null|      MA82HVCI| James Ascencio|In_Progress|  GTXPro|      null|       null|2017-06-15|\n",
      "|      null|      BRL1KVVH| Vicki Laflamme|       Lost|GTXBasic|2017-08-03|        0.0|2017-05-19|\n",
      "|     Silis|      R22O68FF|Niesha Huffines|        Won|GTXBasic|2017-06-27|      524.0|2017-03-21|\n",
      "|     Silis|      J78AK31N|  Kami Bicknell|        Won|  MGRPFU|2017-08-04|     4794.0|2017-05-15|\n",
      "+----------+--------------+---------------+-----------+--------+----------+-----------+----------+\n",
      "only showing top 5 rows\n",
      "\n",
      "+---------------+-------------+---------------+\n",
      "|    sales_agent|      manager|regional_office|\n",
      "+---------------+-------------+---------------+\n",
      "|  Donn Cantrell|Rocco Neubert|        Central|\n",
      "| James Ascencio|Summer Sewald|           West|\n",
      "| Vicki Laflamme| Celia Rouche|           West|\n",
      "|Niesha Huffines|Melvin Marxen|           East|\n",
      "|  Kami Bicknell|Summer Sewald|           West|\n",
      "+---------------+-------------+---------------+\n",
      "only showing top 5 rows\n",
      "\n",
      "+------------+-----------+\n",
      "|     product|sales_price|\n",
      "+------------+-----------+\n",
      "| GTXAdvanced|      649.0|\n",
      "|    GTXBasic|      641.0|\n",
      "|      MGRPFU|     3959.0|\n",
      "|      MGRPFS|       64.0|\n",
      "|GTXPlusBasic|     1279.0|\n",
      "|  GTXPlusPro|     6395.0|\n",
      "|      GTXPro|     5624.0|\n",
      "|     GTK500U|    31229.0|\n",
      "+------------+-----------+\n",
      "\n",
      "+----------+--------+-----------+\n",
      "|created_on|  source|   industry|\n",
      "+----------+--------+-----------+\n",
      "|2016-11-14|Referral|         IT|\n",
      "|2016-11-14|  Social|         IT|\n",
      "|2016-11-14|    Paid|       SaaS|\n",
      "|2016-11-14|  Direct|       SaaS|\n",
      "|2016-11-15| Organic|Health Care|\n",
      "+----------+--------+-----------+\n",
      "only showing top 5 rows\n",
      "\n",
      "+----------------+-------+---------+\n",
      "|         account|revenue|employees|\n",
      "+----------------+-------+---------+\n",
      "|      Sunnamplex|4592.96|  13938.0|\n",
      "|           Silis|5339.57|  18053.0|\n",
      "|    Groovestreet|2728.86|   6486.0|\n",
      "|         Donware|2009.52|   3409.0|\n",
      "|Wonka Industries|4962.27|   4687.0|\n",
      "+----------------+-------+---------+\n",
      "only showing top 5 rows\n",
      "\n"
     ]
    }
   ],
   "source": [
    "\n",
    "\n",
    "salespipeline_df.show(5)\n",
    "salesteam_df.show(5)\n",
    "products_df.show()\n",
    "clicks_df.show(5)\n",
    "accounts_df.show(5)"
   ]
  },
  {
   "cell_type": "markdown",
   "metadata": {},
   "source": [
    "Refer & Use five CSVs to answer problem 1-10 below"
   ]
  },
  {
   "cell_type": "markdown",
   "metadata": {},
   "source": [
    "PROBLEM 1: Display 'Manager' and 'Grand Total Sales', for sales done by the sales agents reporting these managers"
   ]
  },
  {
   "cell_type": "code",
   "execution_count": 7,
   "metadata": {},
   "outputs": [
    {
     "name": "stdout",
     "output_type": "stream",
     "text": [
      "+----------------+----------------+\n",
      "|         manager|sum(close_value)|\n",
      "+----------------+----------------+\n",
      "|    Celia Rouche|       2518466.0|\n",
      "|   Rocco Neubert|       3346813.0|\n",
      "|   Melvin Marxen|       4265901.0|\n",
      "|   Summer Sewald|       2915362.0|\n",
      "|      Cara Losch|       1861751.0|\n",
      "|Dustin Brinkmann|       3028635.0|\n",
      "+----------------+----------------+\n",
      "\n"
     ]
    }
   ],
   "source": [
    "#solution code here\n",
    "#joining salesteam and salespipeline on index as sales_agent\n",
    "salesteam_df.\\\n",
    "join(salespipeline_df,\"sales_agent\").\\\n",
    "filter(\"deal_stage=='Won'\").\\\n",
    "select(\"sales_agent\",\"manager\",\"close_value\").\\\n",
    "groupBy(\"manager\").sum(\"close_value\").\\\n",
    "show()\n"
   ]
  },
  {
   "cell_type": "code",
   "execution_count": 8,
   "metadata": {},
   "outputs": [
    {
     "data": {
      "text/html": [
       "<div>\n",
       "<style scoped>\n",
       "    .dataframe tbody tr th:only-of-type {\n",
       "        vertical-align: middle;\n",
       "    }\n",
       "\n",
       "    .dataframe tbody tr th {\n",
       "        vertical-align: top;\n",
       "    }\n",
       "\n",
       "    .dataframe thead th {\n",
       "        text-align: right;\n",
       "    }\n",
       "</style>\n",
       "<table border=\"1\" class=\"dataframe\">\n",
       "  <thead>\n",
       "    <tr style=\"text-align: right;\">\n",
       "      <th></th>\n",
       "      <th>sales_agent</th>\n",
       "      <th>manager</th>\n",
       "      <th>regional_office</th>\n",
       "    </tr>\n",
       "  </thead>\n",
       "  <tbody>\n",
       "    <tr>\n",
       "      <th>0</th>\n",
       "      <td>Donn Cantrell</td>\n",
       "      <td>Rocco Neubert</td>\n",
       "      <td>Central</td>\n",
       "    </tr>\n",
       "    <tr>\n",
       "      <th>1</th>\n",
       "      <td>James Ascencio</td>\n",
       "      <td>Summer Sewald</td>\n",
       "      <td>West</td>\n",
       "    </tr>\n",
       "    <tr>\n",
       "      <th>2</th>\n",
       "      <td>Vicki Laflamme</td>\n",
       "      <td>Celia Rouche</td>\n",
       "      <td>West</td>\n",
       "    </tr>\n",
       "    <tr>\n",
       "      <th>3</th>\n",
       "      <td>Niesha Huffines</td>\n",
       "      <td>Melvin Marxen</td>\n",
       "      <td>East</td>\n",
       "    </tr>\n",
       "    <tr>\n",
       "      <th>4</th>\n",
       "      <td>Kami Bicknell</td>\n",
       "      <td>Summer Sewald</td>\n",
       "      <td>West</td>\n",
       "    </tr>\n",
       "  </tbody>\n",
       "</table>\n",
       "</div>"
      ],
      "text/plain": [
       "       sales_agent        manager regional_office\n",
       "0    Donn Cantrell  Rocco Neubert         Central\n",
       "1   James Ascencio  Summer Sewald            West\n",
       "2   Vicki Laflamme   Celia Rouche            West\n",
       "3  Niesha Huffines  Melvin Marxen            East\n",
       "4    Kami Bicknell  Summer Sewald            West"
      ]
     },
     "execution_count": 8,
     "metadata": {},
     "output_type": "execute_result"
    }
   ],
   "source": [
    "salesteam_pd.head()"
   ]
  },
  {
   "cell_type": "code",
   "execution_count": 9,
   "metadata": {},
   "outputs": [
    {
     "data": {
      "text/html": [
       "<div>\n",
       "<style scoped>\n",
       "    .dataframe tbody tr th:only-of-type {\n",
       "        vertical-align: middle;\n",
       "    }\n",
       "\n",
       "    .dataframe tbody tr th {\n",
       "        vertical-align: top;\n",
       "    }\n",
       "\n",
       "    .dataframe thead th {\n",
       "        text-align: right;\n",
       "    }\n",
       "</style>\n",
       "<table border=\"1\" class=\"dataframe\">\n",
       "  <thead>\n",
       "    <tr style=\"text-align: right;\">\n",
       "      <th></th>\n",
       "      <th>account</th>\n",
       "      <th>opportunity_id</th>\n",
       "      <th>sales_agent</th>\n",
       "      <th>deal_stage</th>\n",
       "      <th>product</th>\n",
       "      <th>close_date</th>\n",
       "      <th>close_value</th>\n",
       "      <th>created_on</th>\n",
       "    </tr>\n",
       "  </thead>\n",
       "  <tbody>\n",
       "    <tr>\n",
       "      <th>0</th>\n",
       "      <td>Sunnamplex</td>\n",
       "      <td>67HY0MW7</td>\n",
       "      <td>Donn Cantrell</td>\n",
       "      <td>Won</td>\n",
       "      <td>GTXBasic</td>\n",
       "      <td>2017-05-06</td>\n",
       "      <td>500.0</td>\n",
       "      <td>2017-04-24</td>\n",
       "    </tr>\n",
       "    <tr>\n",
       "      <th>1</th>\n",
       "      <td>NaN</td>\n",
       "      <td>MA82HVCI</td>\n",
       "      <td>James Ascencio</td>\n",
       "      <td>In_Progress</td>\n",
       "      <td>GTXPro</td>\n",
       "      <td>NaN</td>\n",
       "      <td>NaN</td>\n",
       "      <td>2017-06-15</td>\n",
       "    </tr>\n",
       "    <tr>\n",
       "      <th>2</th>\n",
       "      <td>NaN</td>\n",
       "      <td>BRL1KVVH</td>\n",
       "      <td>Vicki Laflamme</td>\n",
       "      <td>Lost</td>\n",
       "      <td>GTXBasic</td>\n",
       "      <td>2017-08-03</td>\n",
       "      <td>0.0</td>\n",
       "      <td>2017-05-19</td>\n",
       "    </tr>\n",
       "    <tr>\n",
       "      <th>3</th>\n",
       "      <td>Silis</td>\n",
       "      <td>R22O68FF</td>\n",
       "      <td>Niesha Huffines</td>\n",
       "      <td>Won</td>\n",
       "      <td>GTXBasic</td>\n",
       "      <td>2017-06-27</td>\n",
       "      <td>524.0</td>\n",
       "      <td>2017-03-21</td>\n",
       "    </tr>\n",
       "    <tr>\n",
       "      <th>4</th>\n",
       "      <td>Silis</td>\n",
       "      <td>J78AK31N</td>\n",
       "      <td>Kami Bicknell</td>\n",
       "      <td>Won</td>\n",
       "      <td>MGRPFU</td>\n",
       "      <td>2017-08-04</td>\n",
       "      <td>4794.0</td>\n",
       "      <td>2017-05-15</td>\n",
       "    </tr>\n",
       "  </tbody>\n",
       "</table>\n",
       "</div>"
      ],
      "text/plain": [
       "      account opportunity_id      sales_agent   deal_stage   product  \\\n",
       "0  Sunnamplex       67HY0MW7    Donn Cantrell          Won  GTXBasic   \n",
       "1         NaN       MA82HVCI   James Ascencio  In_Progress    GTXPro   \n",
       "2         NaN       BRL1KVVH   Vicki Laflamme         Lost  GTXBasic   \n",
       "3       Silis       R22O68FF  Niesha Huffines          Won  GTXBasic   \n",
       "4       Silis       J78AK31N    Kami Bicknell          Won    MGRPFU   \n",
       "\n",
       "   close_date  close_value  created_on  \n",
       "0  2017-05-06        500.0  2017-04-24  \n",
       "1         NaN          NaN  2017-06-15  \n",
       "2  2017-08-03          0.0  2017-05-19  \n",
       "3  2017-06-27        524.0  2017-03-21  \n",
       "4  2017-08-04       4794.0  2017-05-15  "
      ]
     },
     "execution_count": 9,
     "metadata": {},
     "output_type": "execute_result"
    }
   ],
   "source": [
    "salespipeline_pd.head()"
   ]
  },
  {
   "cell_type": "code",
   "execution_count": null,
   "metadata": {},
   "outputs": [],
   "source": []
  },
  {
   "cell_type": "code",
   "execution_count": null,
   "metadata": {},
   "outputs": [],
   "source": []
  },
  {
   "cell_type": "markdown",
   "metadata": {},
   "source": [
    "PROBLEM 2: Display 'Sales Agents' and 'Sales' for those sales where product sold at profit"
   ]
  },
  {
   "cell_type": "code",
   "execution_count": null,
   "metadata": {},
   "outputs": [],
   "source": []
  },
  {
   "cell_type": "code",
   "execution_count": 10,
   "metadata": {},
   "outputs": [
    {
     "name": "stdout",
     "output_type": "stream",
     "text": [
      "+-----------------+------------+\n",
      "|      sales_agent|     product|\n",
      "+-----------------+------------+\n",
      "|    Kami Bicknell|GTXPlusBasic|\n",
      "|Marty Freudenburg|GTXPlusBasic|\n",
      "| Gladys Colclough|GTXPlusBasic|\n",
      "|   Wilburn Farren|GTXPlusBasic|\n",
      "|  Kary Hendrixson|GTXPlusBasic|\n",
      "+-----------------+------------+\n",
      "only showing top 5 rows\n",
      "\n"
     ]
    }
   ],
   "source": [
    "#solution code here\n",
    "\n",
    "salespipeline_df.\\\n",
    "join(products_df,\"product\").\\\n",
    "filter(\"close_value > sales_price\").\\\n",
    "select(\"sales_agent\",\"product\").\\\n",
    "show(5)"
   ]
  },
  {
   "cell_type": "markdown",
   "metadata": {},
   "source": [
    "PROBLEM 3: Display the 'Opportunity ID' and 'Days Taken to Close', for opportunities those got closed within a month"
   ]
  },
  {
   "cell_type": "code",
   "execution_count": 11,
   "metadata": {},
   "outputs": [
    {
     "name": "stdout",
     "output_type": "stream",
     "text": [
      "+--------------+-------------------+\n",
      "|opportunity_id|Days Taken to close|\n",
      "+--------------+-------------------+\n",
      "|      67HY0MW7|                 12|\n",
      "|      4VHUTHOJ|                  1|\n",
      "|      TMJ0OJ0B|                 10|\n",
      "|      B22V5Z3B|                 13|\n",
      "|      T8QRTV6F|                 10|\n",
      "|      H7ZQUWDJ|                  9|\n",
      "|      KJ1JOOQ0|                 13|\n",
      "|      88MXDSGR|                  9|\n",
      "|      4RE1ST7V|                 22|\n",
      "|      4FJHFAH7|                  6|\n",
      "|      H0NRZ2VX|                 22|\n",
      "|      VB2E4FRU|                  8|\n",
      "|      FLXHSKT4|                 13|\n",
      "|      FJVFOQPG|                 12|\n",
      "|      WHRDPR4H|                 12|\n",
      "|      LWZPACKS|                  7|\n",
      "|      377G0K33|                  2|\n",
      "|      IF0LPAQA|                 15|\n",
      "|      NEJZ68R1|                  5|\n",
      "|      ZQLLEUES|                 13|\n",
      "+--------------+-------------------+\n",
      "only showing top 20 rows\n",
      "\n"
     ]
    }
   ],
   "source": [
    "#solution code here\n",
    "salespipeline_df.\\\n",
    "select(\"opportunity_id\",datediff(\"close_date\",\"created_on\").alias(\"Days Taken to close\")).\\\n",
    "filter(datediff(\"close_date\",\"created_on\")<30).\\\n",
    "show()\n"
   ]
  },
  {
   "cell_type": "markdown",
   "metadata": {},
   "source": [
    "PROBLEM 4: Display product(s) got maximum leads (by count) generated from paid source"
   ]
  },
  {
   "cell_type": "code",
   "execution_count": 12,
   "metadata": {},
   "outputs": [
    {
     "name": "stdout",
     "output_type": "stream",
     "text": [
      "+------------+-----+\n",
      "|     product|count|\n",
      "+------------+-----+\n",
      "|    GTXBasic|71644|\n",
      "|GTXPlusBasic|66316|\n",
      "|      GTXPro|55036|\n",
      "|      MGRPFS|53306|\n",
      "|      MGRPFU|46500|\n",
      "|  GTXPlusPro|37029|\n",
      "|     GTK500U| 1409|\n",
      "+------------+-----+\n",
      "\n"
     ]
    }
   ],
   "source": [
    "#solution code here\n",
    "clicks_df.join(salespipeline_df,\"created_on\").\\\n",
    "filter(\"source=='Paid'\").\\\n",
    "select(\"product\").\\\n",
    "groupBy(\"product\").count().\\\n",
    "orderBy(desc(\"count\")).\\\n",
    "show()"
   ]
  },
  {
   "cell_type": "markdown",
   "metadata": {},
   "source": [
    "PROBLEM 5: Display 'Sales Agent' and 'Opportunity Count', for those sales agents who lost atleast two opportunties"
   ]
  },
  {
   "cell_type": "code",
   "execution_count": 13,
   "metadata": {},
   "outputs": [
    {
     "name": "stdout",
     "output_type": "stream",
     "text": [
      "+------------------+---------------------+\n",
      "|       sales_agent|count(opportunity_id)|\n",
      "+------------------+---------------------+\n",
      "|   Darcel Schlecht|                  337|\n",
      "|     Kami Bicknell|                  134|\n",
      "|    Vicki Laflamme|                  162|\n",
      "|      Elease Gluck|                   62|\n",
      "|Jonathan Berthelot|                  185|\n",
      "|   Daniell Hammack|                   80|\n",
      "|     Anna Snelling|                  140|\n",
      "|      Cassey Cress|                  137|\n",
      "|     Garret Kinder|                   63|\n",
      "|    Markita Hansen|                  115|\n",
      "|      Reed Clapper|                   87|\n",
      "|Rosie Papadopoulos|                   56|\n",
      "|   Maureen Marcano|                  119|\n",
      "|  Violet Mclelland|                  111|\n",
      "|  Gladys Colclough|                  149|\n",
      "|         Boris Faz|                   63|\n",
      "|    Wilburn Farren|                   44|\n",
      "| Versie Hillebrand|                  118|\n",
      "| Marty Freudenburg|                  120|\n",
      "|    Cecily Lampkin|                   86|\n",
      "+------------------+---------------------+\n",
      "only showing top 20 rows\n",
      "\n"
     ]
    }
   ],
   "source": [
    "#solution code here\n",
    "salespipeline_df.select(\"deal_stage\",\"sales_agent\",\"opportunity_id\").\\\n",
    "filter(\"deal_stage=='Lost'\").\\\n",
    "groupBy(\"sales_agent\").agg(countDistinct(\"opportunity_id\")).\\\n",
    "show()\n",
    "\n"
   ]
  },
  {
   "cell_type": "markdown",
   "metadata": {},
   "source": [
    "PROBLEM 6: Display in ascending order of revenue, 'Account' and 'Revenue' for telecom accounts "
   ]
  },
  {
   "cell_type": "code",
   "execution_count": 14,
   "metadata": {},
   "outputs": [
    {
     "name": "stdout",
     "output_type": "stream",
     "text": [
      "+--------------------+-------+\n",
      "|             account|revenue|\n",
      "+--------------------+-------+\n",
      "|          Stanredtax|  14.79|\n",
      "|          Fasehatice|   19.2|\n",
      "|            Kan-code|  22.63|\n",
      "|           Treequote|   73.1|\n",
      "|           Konmatfix|  82.96|\n",
      "|Olivia Pope & Ass...|  97.94|\n",
      "|         Donquadtech| 110.88|\n",
      "|           Warephase| 130.62|\n",
      "|        Soylent Corp| 136.89|\n",
      "|         Iselectrics| 138.63|\n",
      "|              Yearin| 144.68|\n",
      "|           Ganjaflex|  161.8|\n",
      "|     Sterling Cooper| 204.47|\n",
      "|            Rangreen| 211.12|\n",
      "|            Xx-zobam| 221.86|\n",
      "|              Hatfan| 223.54|\n",
      "|            Betatech| 239.22|\n",
      "|           Duff Beer| 244.32|\n",
      "|         Good Burger| 247.91|\n",
      "|            Blackzim| 256.32|\n",
      "+--------------------+-------+\n",
      "only showing top 20 rows\n",
      "\n"
     ]
    }
   ],
   "source": [
    "#solution code here\n",
    "clicks_df.\\\n",
    "filter(\"industry=='Telecom'\").\\\n",
    "join(salespipeline_df,\"created_on\").\\\n",
    "join(accounts_df,\"account\").\\\n",
    "select(\"account\",\"revenue\").\\\n",
    "distinct().\\\n",
    "orderBy(\"revenue\").\\\n",
    "show()\n"
   ]
  },
  {
   "cell_type": "markdown",
   "metadata": {},
   "source": [
    "PROBLEM 7: Display by revenue generated, bottom five 'Industries' and 'Revenue'"
   ]
  },
  {
   "cell_type": "code",
   "execution_count": 15,
   "metadata": {},
   "outputs": [
    {
     "name": "stdout",
     "output_type": "stream",
     "text": [
      "+--------------------+-------+\n",
      "|            industry|revenue|\n",
      "+--------------------+-------+\n",
      "|         Health Care| 6085.6|\n",
      "|           Education| 6085.6|\n",
      "|                  IT| 6085.6|\n",
      "|                SaaS| 6085.6|\n",
      "|Retail/Entertainment| 6085.6|\n",
      "+--------------------+-------+\n",
      "\n"
     ]
    }
   ],
   "source": [
    "#solution code here\n",
    "clicks_df.\\\n",
    "join(salespipeline_df,\"created_on\").\\\n",
    "join(accounts_df,\"account\").\\\n",
    "select(\"industry\",\"revenue\").\\\n",
    "distinct().\\\n",
    "orderBy(desc(\"revenue\")).\\\n",
    "limit(5).\\\n",
    "show()\n"
   ]
  },
  {
   "cell_type": "markdown",
   "metadata": {},
   "source": [
    "PROBLEM 8: Display 'Month of Year' vs 'Sales', for GTXBasic. NOTE: \"Month of Year\" means month year (eg. Jan) and \"Month\" means month (eg. Jan 2020, Jan 2021 etc)"
   ]
  },
  {
   "cell_type": "code",
   "execution_count": 16,
   "metadata": {},
   "outputs": [],
   "source": [
    "#Can use this UDF but, I am getting javasocket timeout\n",
    "\n",
    "#def convertMonth(number):\n",
    "#    monthdict = {1:\"Jan\",2:\"Feb\",3:\"Mar\",4:\"Apr\",5:\"May\",6:\"June\",7:\"Jul\",8:\"Aug\",9:\"Sept\",10:\"Oct\",11:\"Nov\",12:\"Dec\"}\n",
    "#    if monthdict.has_key(number):\n",
    "#        return monthdict[number]\n",
    "\n",
    "    \n",
    "#convertMonthUDF = udf(lambda z: convertCase(z))"
   ]
  },
  {
   "cell_type": "code",
   "execution_count": 17,
   "metadata": {},
   "outputs": [
    {
     "name": "stdout",
     "output_type": "stream",
     "text": [
      "+-------------+-----+\n",
      "|Month Of Year|Sales|\n",
      "+-------------+-----+\n",
      "|         null|    0|\n",
      "|            3|   63|\n",
      "|            4|  107|\n",
      "|            5|  154|\n",
      "|            6|  188|\n",
      "|            7|  243|\n",
      "|            8|  313|\n",
      "|            9|  378|\n",
      "|           10|  265|\n",
      "|           11|  123|\n",
      "|           12|  307|\n",
      "+-------------+-----+\n",
      "\n"
     ]
    }
   ],
   "source": [
    "#solution code here\n",
    "\n",
    "salespipeline_df.\\\n",
    "filter(\"product=='GTXBasic'\").\\\n",
    "select(month(\"close_date\").alias(\"Month Of Year\"),\"product\").\\\n",
    "groupBy(\"Month Of Year\").agg(count(\"Month Of Year\").alias(\"Sales\")).\\\n",
    "orderBy(\"Month Of Year\").show()"
   ]
  },
  {
   "cell_type": "markdown",
   "metadata": {},
   "source": [
    "PROBLEM 9: Which sales agent(s) never lost a deal. Display as a dictionary {sales agent:sales}"
   ]
  },
  {
   "cell_type": "code",
   "execution_count": 18,
   "metadata": {},
   "outputs": [],
   "source": [
    "#solution code here\n",
    "\n"
   ]
  },
  {
   "cell_type": "markdown",
   "metadata": {},
   "source": [
    "PROBLEM 10: Display 'Sales Agents', 'Product', and 'Sales', for those sales agents who closed more than one deal on same day"
   ]
  },
  {
   "cell_type": "code",
   "execution_count": 19,
   "metadata": {},
   "outputs": [
    {
     "name": "stdout",
     "output_type": "stream",
     "text": [
      "+-----------------+------------+\n",
      "|      sales_agent|     product|\n",
      "+-----------------+------------+\n",
      "|  Kary Hendrixson|GTXPlusBasic|\n",
      "|  Niesha Huffines|GTXPlusBasic|\n",
      "|Versie Hillebrand|GTXPlusBasic|\n",
      "|Marty Freudenburg|    GTXBasic|\n",
      "|  Darcel Schlecht|    GTXBasic|\n",
      "|     Cassey Cress|      GTXPro|\n",
      "|    Hayden Neloms|      MGRPFU|\n",
      "|  Daniell Hammack|      MGRPFS|\n",
      "|        Zane Levy|      MGRPFS|\n",
      "+-----------------+------------+\n",
      "\n"
     ]
    }
   ],
   "source": [
    "#solution code here\n",
    "salespipeline_df.\\\n",
    "join(products_df,\"product\").\\\n",
    "select(\"sales_agent\",\"product\").\\\n",
    "filter(datediff(\"close_date\",\"created_on\")==0).\\\n",
    "show()"
   ]
  },
  {
   "cell_type": "markdown",
   "metadata": {},
   "source": [
    "Refer & Use Orchestra.json to answer problem 11-13 below"
   ]
  },
  {
   "cell_type": "markdown",
   "metadata": {},
   "source": [
    "## Extracting data from json to DF for spark"
   ]
  },
  {
   "cell_type": "code",
   "execution_count": 21,
   "metadata": {},
   "outputs": [
    {
     "name": "stderr",
     "output_type": "stream",
     "text": [
      "<ipython-input-21-3c9f0d1b0858>:4: FutureWarning: pandas.io.json.json_normalize is deprecated, use pandas.json_normalize instead\n",
      "  json_df = json_normalize(data['programs'])\n"
     ]
    },
    {
     "data": {
      "text/html": [
       "<div>\n",
       "<style scoped>\n",
       "    .dataframe tbody tr th:only-of-type {\n",
       "        vertical-align: middle;\n",
       "    }\n",
       "\n",
       "    .dataframe tbody tr th {\n",
       "        vertical-align: top;\n",
       "    }\n",
       "\n",
       "    .dataframe thead th {\n",
       "        text-align: right;\n",
       "    }\n",
       "</style>\n",
       "<table border=\"1\" class=\"dataframe\">\n",
       "  <thead>\n",
       "    <tr style=\"text-align: right;\">\n",
       "      <th></th>\n",
       "      <th>id</th>\n",
       "      <th>programID</th>\n",
       "      <th>orchestra</th>\n",
       "      <th>season</th>\n",
       "      <th>concerts</th>\n",
       "      <th>works</th>\n",
       "    </tr>\n",
       "  </thead>\n",
       "  <tbody>\n",
       "    <tr>\n",
       "      <th>0</th>\n",
       "      <td>00646b9f-fec7-4ffb-9fb1-faae410bd9dc-0.1</td>\n",
       "      <td>3853</td>\n",
       "      <td>New York Philharmonic</td>\n",
       "      <td>1842-43</td>\n",
       "      <td>[{'eventType': 'Subscription Season', 'Locatio...</td>\n",
       "      <td>[{'ID': '52446*', 'composerName': 'Beethoven, ...</td>\n",
       "    </tr>\n",
       "    <tr>\n",
       "      <th>1</th>\n",
       "      <td>1118e84e-eb59-46cc-9119-d903375e65e6-0.1</td>\n",
       "      <td>5178</td>\n",
       "      <td>New York Philharmonic</td>\n",
       "      <td>1842-43</td>\n",
       "      <td>[{'eventType': 'Subscription Season', 'Locatio...</td>\n",
       "      <td>[{'ID': '52437*', 'composerName': 'Beethoven, ...</td>\n",
       "    </tr>\n",
       "    <tr>\n",
       "      <th>2</th>\n",
       "      <td>08536612-27c3-437e-9b44-def21034b06c-0.1</td>\n",
       "      <td>10785</td>\n",
       "      <td>Musicians from the New York Philharmonic</td>\n",
       "      <td>1842-43</td>\n",
       "      <td>[{'eventType': 'Special', 'Location': 'Manhatt...</td>\n",
       "      <td>[{'ID': '52364*1', 'composerName': 'Beethoven,...</td>\n",
       "    </tr>\n",
       "    <tr>\n",
       "      <th>3</th>\n",
       "      <td>81a3b8de-1737-4c9e-9318-b839f7c7c4c0-0.1</td>\n",
       "      <td>5887</td>\n",
       "      <td>New York Philharmonic</td>\n",
       "      <td>1842-43</td>\n",
       "      <td>[{'eventType': 'Subscription Season', 'Locatio...</td>\n",
       "      <td>[{'ID': '52434*', 'composerName': 'Beethoven, ...</td>\n",
       "    </tr>\n",
       "    <tr>\n",
       "      <th>4</th>\n",
       "      <td>09581bb7-8855-4965-b302-fc54cc669041-0.1</td>\n",
       "      <td>305</td>\n",
       "      <td>New York Philharmonic</td>\n",
       "      <td>1843-44</td>\n",
       "      <td>[{'eventType': 'Subscription Season', 'Locatio...</td>\n",
       "      <td>[{'ID': '52453*', 'composerName': 'Beethoven, ...</td>\n",
       "    </tr>\n",
       "  </tbody>\n",
       "</table>\n",
       "</div>"
      ],
      "text/plain": [
       "                                         id programID  \\\n",
       "0  00646b9f-fec7-4ffb-9fb1-faae410bd9dc-0.1      3853   \n",
       "1  1118e84e-eb59-46cc-9119-d903375e65e6-0.1      5178   \n",
       "2  08536612-27c3-437e-9b44-def21034b06c-0.1     10785   \n",
       "3  81a3b8de-1737-4c9e-9318-b839f7c7c4c0-0.1      5887   \n",
       "4  09581bb7-8855-4965-b302-fc54cc669041-0.1       305   \n",
       "\n",
       "                                  orchestra   season  \\\n",
       "0                     New York Philharmonic  1842-43   \n",
       "1                     New York Philharmonic  1842-43   \n",
       "2  Musicians from the New York Philharmonic  1842-43   \n",
       "3                     New York Philharmonic  1842-43   \n",
       "4                     New York Philharmonic  1843-44   \n",
       "\n",
       "                                            concerts  \\\n",
       "0  [{'eventType': 'Subscription Season', 'Locatio...   \n",
       "1  [{'eventType': 'Subscription Season', 'Locatio...   \n",
       "2  [{'eventType': 'Special', 'Location': 'Manhatt...   \n",
       "3  [{'eventType': 'Subscription Season', 'Locatio...   \n",
       "4  [{'eventType': 'Subscription Season', 'Locatio...   \n",
       "\n",
       "                                               works  \n",
       "0  [{'ID': '52446*', 'composerName': 'Beethoven, ...  \n",
       "1  [{'ID': '52437*', 'composerName': 'Beethoven, ...  \n",
       "2  [{'ID': '52364*1', 'composerName': 'Beethoven,...  \n",
       "3  [{'ID': '52434*', 'composerName': 'Beethoven, ...  \n",
       "4  [{'ID': '52453*', 'composerName': 'Beethoven, ...  "
      ]
     },
     "execution_count": 21,
     "metadata": {},
     "output_type": "execute_result"
    }
   ],
   "source": [
    "with open(\"./Orchestra.json\",encoding='utf-8') as file:\n",
    "    data = json.load(file)\n",
    "    \n",
    "json_df = json_normalize(data['programs'])\n",
    "json_df.head()\n",
    "\n"
   ]
  },
  {
   "cell_type": "code",
   "execution_count": null,
   "metadata": {},
   "outputs": [],
   "source": [
    "#Segregating nested fields"
   ]
  },
  {
   "cell_type": "code",
   "execution_count": 22,
   "metadata": {},
   "outputs": [
    {
     "name": "stderr",
     "output_type": "stream",
     "text": [
      "<ipython-input-22-7cb3ecd869f7>:1: FutureWarning: pandas.io.json.json_normalize is deprecated, use pandas.json_normalize instead\n",
      "  works_data = json_normalize(data = data['programs'],\n"
     ]
    },
    {
     "data": {
      "text/html": [
       "<div>\n",
       "<style scoped>\n",
       "    .dataframe tbody tr th:only-of-type {\n",
       "        vertical-align: middle;\n",
       "    }\n",
       "\n",
       "    .dataframe tbody tr th {\n",
       "        vertical-align: top;\n",
       "    }\n",
       "\n",
       "    .dataframe thead th {\n",
       "        text-align: right;\n",
       "    }\n",
       "</style>\n",
       "<table border=\"1\" class=\"dataframe\">\n",
       "  <thead>\n",
       "    <tr style=\"text-align: right;\">\n",
       "      <th></th>\n",
       "      <th>ID</th>\n",
       "      <th>composerName</th>\n",
       "      <th>workTitle</th>\n",
       "      <th>conductorName</th>\n",
       "      <th>soloists</th>\n",
       "      <th>movement</th>\n",
       "      <th>interval</th>\n",
       "      <th>movement._</th>\n",
       "      <th>movement.em</th>\n",
       "      <th>id</th>\n",
       "      <th>orchestra</th>\n",
       "      <th>programID</th>\n",
       "      <th>season</th>\n",
       "    </tr>\n",
       "  </thead>\n",
       "  <tbody>\n",
       "    <tr>\n",
       "      <th>0</th>\n",
       "      <td>52446*</td>\n",
       "      <td>Beethoven,  Ludwig  van</td>\n",
       "      <td>SYMPHONY NO. 5 IN C MINOR, OP.67</td>\n",
       "      <td>Hill, Ureli Corelli</td>\n",
       "      <td>[]</td>\n",
       "      <td>NaN</td>\n",
       "      <td>NaN</td>\n",
       "      <td>NaN</td>\n",
       "      <td>NaN</td>\n",
       "      <td>00646b9f-fec7-4ffb-9fb1-faae410bd9dc-0.1</td>\n",
       "      <td>New York Philharmonic</td>\n",
       "      <td>3853</td>\n",
       "      <td>1842-43</td>\n",
       "    </tr>\n",
       "    <tr>\n",
       "      <th>1</th>\n",
       "      <td>8834*4</td>\n",
       "      <td>Weber,  Carl  Maria Von</td>\n",
       "      <td>OBERON</td>\n",
       "      <td>Timm, Henry C.</td>\n",
       "      <td>[{'soloistName': 'Otto, Antoinette', 'soloistI...</td>\n",
       "      <td>\"Ozean, du Ungeheuer\" (Ocean, thou mighty mons...</td>\n",
       "      <td>NaN</td>\n",
       "      <td>NaN</td>\n",
       "      <td>NaN</td>\n",
       "      <td>00646b9f-fec7-4ffb-9fb1-faae410bd9dc-0.1</td>\n",
       "      <td>New York Philharmonic</td>\n",
       "      <td>3853</td>\n",
       "      <td>1842-43</td>\n",
       "    </tr>\n",
       "    <tr>\n",
       "      <th>2</th>\n",
       "      <td>3642*</td>\n",
       "      <td>Hummel,  Johann</td>\n",
       "      <td>QUINTET, PIANO, D MINOR, OP. 74</td>\n",
       "      <td>NaN</td>\n",
       "      <td>[{'soloistName': 'Scharfenberg, William', 'sol...</td>\n",
       "      <td>NaN</td>\n",
       "      <td>NaN</td>\n",
       "      <td>NaN</td>\n",
       "      <td>NaN</td>\n",
       "      <td>00646b9f-fec7-4ffb-9fb1-faae410bd9dc-0.1</td>\n",
       "      <td>New York Philharmonic</td>\n",
       "      <td>3853</td>\n",
       "      <td>1842-43</td>\n",
       "    </tr>\n",
       "    <tr>\n",
       "      <th>3</th>\n",
       "      <td>0*</td>\n",
       "      <td>NaN</td>\n",
       "      <td>NaN</td>\n",
       "      <td>NaN</td>\n",
       "      <td>[]</td>\n",
       "      <td>NaN</td>\n",
       "      <td>Intermission</td>\n",
       "      <td>NaN</td>\n",
       "      <td>NaN</td>\n",
       "      <td>00646b9f-fec7-4ffb-9fb1-faae410bd9dc-0.1</td>\n",
       "      <td>New York Philharmonic</td>\n",
       "      <td>3853</td>\n",
       "      <td>1842-43</td>\n",
       "    </tr>\n",
       "    <tr>\n",
       "      <th>4</th>\n",
       "      <td>8834*3</td>\n",
       "      <td>Weber,  Carl  Maria Von</td>\n",
       "      <td>OBERON</td>\n",
       "      <td>Etienne, Denis G.</td>\n",
       "      <td>[]</td>\n",
       "      <td>Overture</td>\n",
       "      <td>NaN</td>\n",
       "      <td>NaN</td>\n",
       "      <td>NaN</td>\n",
       "      <td>00646b9f-fec7-4ffb-9fb1-faae410bd9dc-0.1</td>\n",
       "      <td>New York Philharmonic</td>\n",
       "      <td>3853</td>\n",
       "      <td>1842-43</td>\n",
       "    </tr>\n",
       "  </tbody>\n",
       "</table>\n",
       "</div>"
      ],
      "text/plain": [
       "       ID             composerName                         workTitle  \\\n",
       "0  52446*  Beethoven,  Ludwig  van  SYMPHONY NO. 5 IN C MINOR, OP.67   \n",
       "1  8834*4  Weber,  Carl  Maria Von                            OBERON   \n",
       "2   3642*          Hummel,  Johann   QUINTET, PIANO, D MINOR, OP. 74   \n",
       "3      0*                      NaN                               NaN   \n",
       "4  8834*3  Weber,  Carl  Maria Von                            OBERON   \n",
       "\n",
       "         conductorName                                           soloists  \\\n",
       "0  Hill, Ureli Corelli                                                 []   \n",
       "1       Timm, Henry C.  [{'soloistName': 'Otto, Antoinette', 'soloistI...   \n",
       "2                  NaN  [{'soloistName': 'Scharfenberg, William', 'sol...   \n",
       "3                  NaN                                                 []   \n",
       "4    Etienne, Denis G.                                                 []   \n",
       "\n",
       "                                            movement      interval movement._  \\\n",
       "0                                                NaN           NaN        NaN   \n",
       "1  \"Ozean, du Ungeheuer\" (Ocean, thou mighty mons...           NaN        NaN   \n",
       "2                                                NaN           NaN        NaN   \n",
       "3                                                NaN  Intermission        NaN   \n",
       "4                                           Overture           NaN        NaN   \n",
       "\n",
       "  movement.em                                        id  \\\n",
       "0         NaN  00646b9f-fec7-4ffb-9fb1-faae410bd9dc-0.1   \n",
       "1         NaN  00646b9f-fec7-4ffb-9fb1-faae410bd9dc-0.1   \n",
       "2         NaN  00646b9f-fec7-4ffb-9fb1-faae410bd9dc-0.1   \n",
       "3         NaN  00646b9f-fec7-4ffb-9fb1-faae410bd9dc-0.1   \n",
       "4         NaN  00646b9f-fec7-4ffb-9fb1-faae410bd9dc-0.1   \n",
       "\n",
       "               orchestra programID   season  \n",
       "0  New York Philharmonic      3853  1842-43  \n",
       "1  New York Philharmonic      3853  1842-43  \n",
       "2  New York Philharmonic      3853  1842-43  \n",
       "3  New York Philharmonic      3853  1842-43  \n",
       "4  New York Philharmonic      3853  1842-43  "
      ]
     },
     "execution_count": 22,
     "metadata": {},
     "output_type": "execute_result"
    }
   ],
   "source": [
    "works_data = json_normalize(data = data['programs'],\n",
    "                            record_path ='works', \n",
    "                            meta =['id', 'orchestra', 'programID', 'season'])\n",
    "works_data.head()"
   ]
  },
  {
   "cell_type": "code",
   "execution_count": 23,
   "metadata": {},
   "outputs": [
    {
     "name": "stderr",
     "output_type": "stream",
     "text": [
      "<ipython-input-23-5807b7a7095e>:1: FutureWarning: pandas.io.json.json_normalize is deprecated, use pandas.json_normalize instead\n",
      "  soloist_data = json_normalize(data = data['programs'],\n"
     ]
    },
    {
     "data": {
      "text/html": [
       "<div>\n",
       "<style scoped>\n",
       "    .dataframe tbody tr th:only-of-type {\n",
       "        vertical-align: middle;\n",
       "    }\n",
       "\n",
       "    .dataframe tbody tr th {\n",
       "        vertical-align: top;\n",
       "    }\n",
       "\n",
       "    .dataframe thead th {\n",
       "        text-align: right;\n",
       "    }\n",
       "</style>\n",
       "<table border=\"1\" class=\"dataframe\">\n",
       "  <thead>\n",
       "    <tr style=\"text-align: right;\">\n",
       "      <th></th>\n",
       "      <th>soloistName</th>\n",
       "      <th>soloistInstrument</th>\n",
       "      <th>soloistRoles</th>\n",
       "      <th>id</th>\n",
       "    </tr>\n",
       "  </thead>\n",
       "  <tbody>\n",
       "    <tr>\n",
       "      <th>0</th>\n",
       "      <td>Otto, Antoinette</td>\n",
       "      <td>Soprano</td>\n",
       "      <td>S</td>\n",
       "      <td>00646b9f-fec7-4ffb-9fb1-faae410bd9dc-0.1</td>\n",
       "    </tr>\n",
       "    <tr>\n",
       "      <th>1</th>\n",
       "      <td>Scharfenberg, William</td>\n",
       "      <td>Piano</td>\n",
       "      <td>A</td>\n",
       "      <td>00646b9f-fec7-4ffb-9fb1-faae410bd9dc-0.1</td>\n",
       "    </tr>\n",
       "    <tr>\n",
       "      <th>2</th>\n",
       "      <td>Hill, Ureli Corelli</td>\n",
       "      <td>Violin</td>\n",
       "      <td>A</td>\n",
       "      <td>00646b9f-fec7-4ffb-9fb1-faae410bd9dc-0.1</td>\n",
       "    </tr>\n",
       "    <tr>\n",
       "      <th>3</th>\n",
       "      <td>Derwort, G. H.</td>\n",
       "      <td>Viola</td>\n",
       "      <td>A</td>\n",
       "      <td>00646b9f-fec7-4ffb-9fb1-faae410bd9dc-0.1</td>\n",
       "    </tr>\n",
       "    <tr>\n",
       "      <th>4</th>\n",
       "      <td>Boucher, Alfred</td>\n",
       "      <td>Cello</td>\n",
       "      <td>A</td>\n",
       "      <td>00646b9f-fec7-4ffb-9fb1-faae410bd9dc-0.1</td>\n",
       "    </tr>\n",
       "  </tbody>\n",
       "</table>\n",
       "</div>"
      ],
      "text/plain": [
       "             soloistName soloistInstrument soloistRoles  \\\n",
       "0       Otto, Antoinette           Soprano            S   \n",
       "1  Scharfenberg, William             Piano            A   \n",
       "2    Hill, Ureli Corelli            Violin            A   \n",
       "3         Derwort, G. H.             Viola            A   \n",
       "4        Boucher, Alfred             Cello            A   \n",
       "\n",
       "                                         id  \n",
       "0  00646b9f-fec7-4ffb-9fb1-faae410bd9dc-0.1  \n",
       "1  00646b9f-fec7-4ffb-9fb1-faae410bd9dc-0.1  \n",
       "2  00646b9f-fec7-4ffb-9fb1-faae410bd9dc-0.1  \n",
       "3  00646b9f-fec7-4ffb-9fb1-faae410bd9dc-0.1  \n",
       "4  00646b9f-fec7-4ffb-9fb1-faae410bd9dc-0.1  "
      ]
     },
     "execution_count": 23,
     "metadata": {},
     "output_type": "execute_result"
    }
   ],
   "source": [
    "soloist_data = json_normalize(data = data['programs'],\n",
    "                              record_path =['works', 'soloists'],\n",
    "                              meta =['id'])\n",
    "  \n",
    "soloist_data.head()"
   ]
  },
  {
   "cell_type": "markdown",
   "metadata": {},
   "source": [
    "PROBLEM 11: Display the instrument played by Lehmann Caroline"
   ]
  },
  {
   "cell_type": "code",
   "execution_count": 24,
   "metadata": {},
   "outputs": [
    {
     "name": "stdout",
     "output_type": "stream",
     "text": [
      "+--------------------+-----------------+------------+--------------------+\n",
      "|         soloistName|soloistInstrument|soloistRoles|                  id|\n",
      "+--------------------+-----------------+------------+--------------------+\n",
      "|    Otto, Antoinette|          Soprano|           S|00646b9f-fec7-4ff...|\n",
      "|Scharfenberg, Wil...|            Piano|           A|00646b9f-fec7-4ff...|\n",
      "| Hill, Ureli Corelli|           Violin|           A|00646b9f-fec7-4ff...|\n",
      "|      Derwort, G. H.|            Viola|           A|00646b9f-fec7-4ff...|\n",
      "|     Boucher, Alfred|            Cello|           A|00646b9f-fec7-4ff...|\n",
      "+--------------------+-----------------+------------+--------------------+\n",
      "only showing top 5 rows\n",
      "\n"
     ]
    }
   ],
   "source": [
    "soloist_df = sqlContext.createDataFrame(soloist_data)\n",
    "soloist_df.show(5)"
   ]
  },
  {
   "cell_type": "code",
   "execution_count": 25,
   "metadata": {},
   "outputs": [
    {
     "name": "stdout",
     "output_type": "stream",
     "text": [
      "+-----------------+-----------------+\n",
      "|      soloistName|soloistInstrument|\n",
      "+-----------------+-----------------+\n",
      "|Lehmann, Caroline|          Soprano|\n",
      "|Lehmann, Caroline|          Soprano|\n",
      "|Lehmann, Caroline|          Soprano|\n",
      "|Lehmann, Caroline|          Soprano|\n",
      "|Lehmann, Caroline|          Soprano|\n",
      "|Lehmann, Caroline|          Soprano|\n",
      "+-----------------+-----------------+\n",
      "\n"
     ]
    }
   ],
   "source": [
    "#solution code here\n",
    "soloist_df.filter(\"soloistName == 'Lehmann, Caroline'\").select(\"soloistName\",\"soloistInstrument\").show()"
   ]
  },
  {
   "cell_type": "markdown",
   "metadata": {},
   "source": [
    "PROBLEM 12: Display all vocalists"
   ]
  },
  {
   "cell_type": "code",
   "execution_count": 26,
   "metadata": {},
   "outputs": [
    {
     "name": "stdout",
     "output_type": "stream",
     "text": [
      "+--------------------+-----------------+\n",
      "|         soloistName|soloistInstrument|\n",
      "+--------------------+-----------------+\n",
      "|       Loder, Edward|         Vocalist|\n",
      "|       Loder, Edward|         Vocalist|\n",
      "|       Ricci, Amalia|         Vocalist|\n",
      "|          Sanquirico|         Vocalist|\n",
      "|          Sanquirico|         Vocalist|\n",
      "|       Ricci, Amalia|         Vocalist|\n",
      "|       Loder, Edward|         Vocalist|\n",
      "|       Loder, Edward|         Vocalist|\n",
      "|       Loder, Edward|         Vocalist|\n",
      "|             De Luce|         Vocalist|\n",
      "|              Munson|         Vocalist|\n",
      "|Massett, J. Schwartz|         Vocalist|\n",
      "|             Arnoult|         Vocalist|\n",
      "|             Arnoult|         Vocalist|\n",
      "|                Mott|         Vocalist|\n",
      "|                Mott|         Vocalist|\n",
      "|     Northall, Julia|         Vocalist|\n",
      "|     Northall, Julia|         Vocalist|\n",
      "|     Northall, Julia|         Vocalist|\n",
      "|                Pico|         Vocalist|\n",
      "+--------------------+-----------------+\n",
      "only showing top 20 rows\n",
      "\n"
     ]
    }
   ],
   "source": [
    "#solution code here\n",
    "soloist_df.filter(\"soloistInstrument=='Vocalist'\").select(\"soloistName\",\"soloistInstrument\").show()"
   ]
  },
  {
   "cell_type": "markdown",
   "metadata": {},
   "source": [
    "PROBLEM 13: Display orchestra played under program id 2561"
   ]
  },
  {
   "cell_type": "code",
   "execution_count": 27,
   "metadata": {},
   "outputs": [
    {
     "data": {
      "text/html": [
       "<div>\n",
       "<style scoped>\n",
       "    .dataframe tbody tr th:only-of-type {\n",
       "        vertical-align: middle;\n",
       "    }\n",
       "\n",
       "    .dataframe tbody tr th {\n",
       "        vertical-align: top;\n",
       "    }\n",
       "\n",
       "    .dataframe thead th {\n",
       "        text-align: right;\n",
       "    }\n",
       "</style>\n",
       "<table border=\"1\" class=\"dataframe\">\n",
       "  <thead>\n",
       "    <tr style=\"text-align: right;\">\n",
       "      <th></th>\n",
       "      <th>ID</th>\n",
       "      <th>composerName</th>\n",
       "      <th>workTitle</th>\n",
       "      <th>conductorName</th>\n",
       "      <th>soloists</th>\n",
       "      <th>movement</th>\n",
       "      <th>interval</th>\n",
       "      <th>movement._</th>\n",
       "      <th>movement.em</th>\n",
       "      <th>id</th>\n",
       "      <th>orchestra</th>\n",
       "      <th>programID</th>\n",
       "      <th>season</th>\n",
       "    </tr>\n",
       "  </thead>\n",
       "  <tbody>\n",
       "    <tr>\n",
       "      <th>363</th>\n",
       "      <td>4198*</td>\n",
       "      <td>Gade,  Niels</td>\n",
       "      <td>SYMPHONY NO. 4, B FLAT MAJOR, OP. 20</td>\n",
       "      <td>Eisfeld, Theodore</td>\n",
       "      <td>[]</td>\n",
       "      <td>NaN</td>\n",
       "      <td>NaN</td>\n",
       "      <td>NaN</td>\n",
       "      <td>NaN</td>\n",
       "      <td>5d1e33be-38d3-40e5-b848-cc88dd835574-0.1</td>\n",
       "      <td>New York Philharmonic</td>\n",
       "      <td>2561</td>\n",
       "      <td>1853-54</td>\n",
       "    </tr>\n",
       "    <tr>\n",
       "      <th>364</th>\n",
       "      <td>4202*2</td>\n",
       "      <td>Lortzing,  Albert</td>\n",
       "      <td>ZAR UND ZIMMERMANN</td>\n",
       "      <td>Eisfeld, Theodore</td>\n",
       "      <td>[{'soloistName': 'Schumann, Julius', 'soloistI...</td>\n",
       "      <td>\"Sonst Spielt'ich Mit Zepter\" (or \"Song of the...</td>\n",
       "      <td>NaN</td>\n",
       "      <td>NaN</td>\n",
       "      <td>NaN</td>\n",
       "      <td>5d1e33be-38d3-40e5-b848-cc88dd835574-0.1</td>\n",
       "      <td>New York Philharmonic</td>\n",
       "      <td>2561</td>\n",
       "      <td>1853-54</td>\n",
       "    </tr>\n",
       "    <tr>\n",
       "      <th>365</th>\n",
       "      <td>4206*</td>\n",
       "      <td>Spohr,  Louis</td>\n",
       "      <td>CONCERTO, VIOLIN, NO. 14, OP. 110 (CONCERTINO ...</td>\n",
       "      <td>Eisfeld, Theodore</td>\n",
       "      <td>[{'soloistName': 'Burke, Joseph', 'soloistInst...</td>\n",
       "      <td>NaN</td>\n",
       "      <td>NaN</td>\n",
       "      <td>NaN</td>\n",
       "      <td>NaN</td>\n",
       "      <td>5d1e33be-38d3-40e5-b848-cc88dd835574-0.1</td>\n",
       "      <td>New York Philharmonic</td>\n",
       "      <td>2561</td>\n",
       "      <td>1853-54</td>\n",
       "    </tr>\n",
       "    <tr>\n",
       "      <th>366</th>\n",
       "      <td>0*</td>\n",
       "      <td>NaN</td>\n",
       "      <td>NaN</td>\n",
       "      <td>NaN</td>\n",
       "      <td>[]</td>\n",
       "      <td>NaN</td>\n",
       "      <td>Intermission</td>\n",
       "      <td>NaN</td>\n",
       "      <td>NaN</td>\n",
       "      <td>5d1e33be-38d3-40e5-b848-cc88dd835574-0.1</td>\n",
       "      <td>New York Philharmonic</td>\n",
       "      <td>2561</td>\n",
       "      <td>1853-54</td>\n",
       "    </tr>\n",
       "    <tr>\n",
       "      <th>367</th>\n",
       "      <td>4211*1</td>\n",
       "      <td>Spohr,  Louis</td>\n",
       "      <td>FAUST</td>\n",
       "      <td>Eisfeld, Theodore</td>\n",
       "      <td>[]</td>\n",
       "      <td>Overture</td>\n",
       "      <td>NaN</td>\n",
       "      <td>NaN</td>\n",
       "      <td>NaN</td>\n",
       "      <td>5d1e33be-38d3-40e5-b848-cc88dd835574-0.1</td>\n",
       "      <td>New York Philharmonic</td>\n",
       "      <td>2561</td>\n",
       "      <td>1853-54</td>\n",
       "    </tr>\n",
       "    <tr>\n",
       "      <th>368</th>\n",
       "      <td>1587*2</td>\n",
       "      <td>Chopin,  Frédéric</td>\n",
       "      <td>CONCERTO, PIANO, NO. 1, E MINOR, OP. 11</td>\n",
       "      <td>Eisfeld, Theodore</td>\n",
       "      <td>[{'soloistName': 'Hoffman, Richard', 'soloistI...</td>\n",
       "      <td>Romance: Larghetto</td>\n",
       "      <td>NaN</td>\n",
       "      <td>NaN</td>\n",
       "      <td>NaN</td>\n",
       "      <td>5d1e33be-38d3-40e5-b848-cc88dd835574-0.1</td>\n",
       "      <td>New York Philharmonic</td>\n",
       "      <td>2561</td>\n",
       "      <td>1853-54</td>\n",
       "    </tr>\n",
       "    <tr>\n",
       "      <th>369</th>\n",
       "      <td>1587*3</td>\n",
       "      <td>Chopin,  Frédéric</td>\n",
       "      <td>CONCERTO, PIANO, NO. 1, E MINOR, OP. 11</td>\n",
       "      <td>Eisfeld, Theodore</td>\n",
       "      <td>[{'soloistName': 'Hoffman, Richard', 'soloistI...</td>\n",
       "      <td>Rondo: Vivace</td>\n",
       "      <td>NaN</td>\n",
       "      <td>NaN</td>\n",
       "      <td>NaN</td>\n",
       "      <td>5d1e33be-38d3-40e5-b848-cc88dd835574-0.1</td>\n",
       "      <td>New York Philharmonic</td>\n",
       "      <td>2561</td>\n",
       "      <td>1853-54</td>\n",
       "    </tr>\n",
       "    <tr>\n",
       "      <th>370</th>\n",
       "      <td>52552*48</td>\n",
       "      <td>Mendelssohn,  Felix</td>\n",
       "      <td>ST. PAUL, OP. 36</td>\n",
       "      <td>Eisfeld, Theodore</td>\n",
       "      <td>[{'soloistName': 'Schumann, Julius', 'soloistI...</td>\n",
       "      <td>Aria (Unspecified)</td>\n",
       "      <td>NaN</td>\n",
       "      <td>NaN</td>\n",
       "      <td>NaN</td>\n",
       "      <td>5d1e33be-38d3-40e5-b848-cc88dd835574-0.1</td>\n",
       "      <td>New York Philharmonic</td>\n",
       "      <td>2561</td>\n",
       "      <td>1853-54</td>\n",
       "    </tr>\n",
       "    <tr>\n",
       "      <th>371</th>\n",
       "      <td>52429*</td>\n",
       "      <td>Beethoven,  Ludwig  van</td>\n",
       "      <td>SYMPHONY NO. 1 IN C MAJOR, OP.21</td>\n",
       "      <td>Eisfeld, Theodore</td>\n",
       "      <td>[]</td>\n",
       "      <td>NaN</td>\n",
       "      <td>NaN</td>\n",
       "      <td>NaN</td>\n",
       "      <td>NaN</td>\n",
       "      <td>5d1e33be-38d3-40e5-b848-cc88dd835574-0.1</td>\n",
       "      <td>New York Philharmonic</td>\n",
       "      <td>2561</td>\n",
       "      <td>1853-54</td>\n",
       "    </tr>\n",
       "  </tbody>\n",
       "</table>\n",
       "</div>"
      ],
      "text/plain": [
       "           ID             composerName  \\\n",
       "363     4198*             Gade,  Niels   \n",
       "364    4202*2        Lortzing,  Albert   \n",
       "365     4206*            Spohr,  Louis   \n",
       "366        0*                      NaN   \n",
       "367    4211*1            Spohr,  Louis   \n",
       "368    1587*2        Chopin,  Frédéric   \n",
       "369    1587*3        Chopin,  Frédéric   \n",
       "370  52552*48      Mendelssohn,  Felix   \n",
       "371    52429*  Beethoven,  Ludwig  van   \n",
       "\n",
       "                                             workTitle      conductorName  \\\n",
       "363               SYMPHONY NO. 4, B FLAT MAJOR, OP. 20  Eisfeld, Theodore   \n",
       "364                                 ZAR UND ZIMMERMANN  Eisfeld, Theodore   \n",
       "365  CONCERTO, VIOLIN, NO. 14, OP. 110 (CONCERTINO ...  Eisfeld, Theodore   \n",
       "366                                                NaN                NaN   \n",
       "367                                              FAUST  Eisfeld, Theodore   \n",
       "368            CONCERTO, PIANO, NO. 1, E MINOR, OP. 11  Eisfeld, Theodore   \n",
       "369            CONCERTO, PIANO, NO. 1, E MINOR, OP. 11  Eisfeld, Theodore   \n",
       "370                                   ST. PAUL, OP. 36  Eisfeld, Theodore   \n",
       "371                   SYMPHONY NO. 1 IN C MAJOR, OP.21  Eisfeld, Theodore   \n",
       "\n",
       "                                              soloists  \\\n",
       "363                                                 []   \n",
       "364  [{'soloistName': 'Schumann, Julius', 'soloistI...   \n",
       "365  [{'soloistName': 'Burke, Joseph', 'soloistInst...   \n",
       "366                                                 []   \n",
       "367                                                 []   \n",
       "368  [{'soloistName': 'Hoffman, Richard', 'soloistI...   \n",
       "369  [{'soloistName': 'Hoffman, Richard', 'soloistI...   \n",
       "370  [{'soloistName': 'Schumann, Julius', 'soloistI...   \n",
       "371                                                 []   \n",
       "\n",
       "                                              movement      interval  \\\n",
       "363                                                NaN           NaN   \n",
       "364  \"Sonst Spielt'ich Mit Zepter\" (or \"Song of the...           NaN   \n",
       "365                                                NaN           NaN   \n",
       "366                                                NaN  Intermission   \n",
       "367                                           Overture           NaN   \n",
       "368                                 Romance: Larghetto           NaN   \n",
       "369                                      Rondo: Vivace           NaN   \n",
       "370                                 Aria (Unspecified)           NaN   \n",
       "371                                                NaN           NaN   \n",
       "\n",
       "    movement._ movement.em                                        id  \\\n",
       "363        NaN         NaN  5d1e33be-38d3-40e5-b848-cc88dd835574-0.1   \n",
       "364        NaN         NaN  5d1e33be-38d3-40e5-b848-cc88dd835574-0.1   \n",
       "365        NaN         NaN  5d1e33be-38d3-40e5-b848-cc88dd835574-0.1   \n",
       "366        NaN         NaN  5d1e33be-38d3-40e5-b848-cc88dd835574-0.1   \n",
       "367        NaN         NaN  5d1e33be-38d3-40e5-b848-cc88dd835574-0.1   \n",
       "368        NaN         NaN  5d1e33be-38d3-40e5-b848-cc88dd835574-0.1   \n",
       "369        NaN         NaN  5d1e33be-38d3-40e5-b848-cc88dd835574-0.1   \n",
       "370        NaN         NaN  5d1e33be-38d3-40e5-b848-cc88dd835574-0.1   \n",
       "371        NaN         NaN  5d1e33be-38d3-40e5-b848-cc88dd835574-0.1   \n",
       "\n",
       "                 orchestra programID   season  \n",
       "363  New York Philharmonic      2561  1853-54  \n",
       "364  New York Philharmonic      2561  1853-54  \n",
       "365  New York Philharmonic      2561  1853-54  \n",
       "366  New York Philharmonic      2561  1853-54  \n",
       "367  New York Philharmonic      2561  1853-54  \n",
       "368  New York Philharmonic      2561  1853-54  \n",
       "369  New York Philharmonic      2561  1853-54  \n",
       "370  New York Philharmonic      2561  1853-54  \n",
       "371  New York Philharmonic      2561  1853-54  "
      ]
     },
     "execution_count": 27,
     "metadata": {},
     "output_type": "execute_result"
    }
   ],
   "source": [
    "#solution code here\n",
    "orchestra_df = works_data[works_data[\"programID\"]==\"2561\"]\n",
    "orchestra_df.head(10)"
   ]
  },
  {
   "cell_type": "markdown",
   "metadata": {},
   "source": [
    "Refer & Use Orchestra.xml to answer problem 14-15 below"
   ]
  },
  {
   "cell_type": "markdown",
   "metadata": {},
   "source": [
    "PROBLEM 14: Display locations used for event at time 8:15 PM"
   ]
  },
  {
   "cell_type": "code",
   "execution_count": 28,
   "metadata": {},
   "outputs": [],
   "source": [
    "#solution code here"
   ]
  },
  {
   "cell_type": "markdown",
   "metadata": {},
   "source": [
    "PROBLEM 15: Display total number of programs"
   ]
  },
  {
   "cell_type": "code",
   "execution_count": 29,
   "metadata": {},
   "outputs": [],
   "source": [
    "#solution code here"
   ]
  },
  {
   "cell_type": "markdown",
   "metadata": {},
   "source": [
    "********************************************* Test ends here **************************************************"
   ]
  }
 ],
 "metadata": {
  "kernelspec": {
   "display_name": "Python 3",
   "language": "python",
   "name": "python3"
  },
  "language_info": {
   "codemirror_mode": {
    "name": "ipython",
    "version": 3
   },
   "file_extension": ".py",
   "mimetype": "text/x-python",
   "name": "python",
   "nbconvert_exporter": "python",
   "pygments_lexer": "ipython3",
   "version": "3.8.8"
  }
 },
 "nbformat": 4,
 "nbformat_minor": 4
}
